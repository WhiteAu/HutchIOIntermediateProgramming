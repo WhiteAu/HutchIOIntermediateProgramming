{
 "cells": [
  {
   "cell_type": "markdown",
   "metadata": {
    "collapsed": true
   },
   "source": [
    "# Class 2: Class Anatomy\n",
    "At the core of OO programming is the conceit of classes. A class is essentially a collection of variables and functions from which many unique class instantiations can be made. \n",
    "\n"
   ]
  },
  {
   "cell_type": "markdown",
   "metadata": {},
   "source": [
    "## Classes and Class Functions"
   ]
  },
  {
   "cell_type": "code",
   "execution_count": null,
   "metadata": {
    "collapsed": true
   },
   "outputs": [],
   "source": [
    "class MyClass():\n",
    "    def hello_world(self):\n",
    "        print(\"Hello World!\")"
   ]
  },
  {
   "cell_type": "markdown",
   "metadata": {},
   "source": [
    "## Class Instantiation and Invocation"
   ]
  },
  {
   "cell_type": "code",
   "execution_count": null,
   "metadata": {
    "collapsed": false
   },
   "outputs": [],
   "source": [
    "my_class = MyClass()\n",
    "my_class.hello_world()"
   ]
  },
  {
   "cell_type": "code",
   "execution_count": null,
   "metadata": {
    "collapsed": false
   },
   "outputs": [],
   "source": [
    "MyClass().hello_world()"
   ]
  },
  {
   "cell_type": "code",
   "execution_count": null,
   "metadata": {
    "collapsed": false
   },
   "outputs": [],
   "source": [
    "MyClass.hello_world()\n"
   ]
  },
  {
   "cell_type": "markdown",
   "metadata": {},
   "source": [
    "\n",
    "\n",
    "\n",
    "\n",
    "## The __init__ class function and 'self'"
   ]
  },
  {
   "cell_type": "code",
   "execution_count": null,
   "metadata": {
    "collapsed": true
   },
   "outputs": [],
   "source": [
    "class my_class():\n",
    "    def __init__(self):\n",
    "        self.x = [1,2,3]\n",
    "        self.y = [\"a\", \"b\", \"c\"]\n",
    "    \n",
    "    def print_vars(self):\n",
    "        print(\"x: {}\\n y: {}\".format(self.x, self.y))\n",
    "        \n"
   ]
  },
  {
   "cell_type": "code",
   "execution_count": null,
   "metadata": {
    "collapsed": false
   },
   "outputs": [],
   "source": [
    "first_class = my_class()\n",
    "print(\"default variables:\")\n",
    "first_class.print_vars()\n",
    "\n",
    "first_class.x = 55\n",
    "first_class.y = \"direct variable interaction is icky\"\n",
    "print(\"variables after direct manipulation:\")\n",
    "first_class.print_vars()\n",
    "\n",
    "first_class = my_class()\n",
    "print(\"variables after reassigning to a new instance of my_class():\")\n",
    "first_class.print_vars()"
   ]
  },
  {
   "cell_type": "markdown",
   "metadata": {},
   "source": [
    "## Some more special underscore functions"
   ]
  },
  {
   "cell_type": "markdown",
   "metadata": {},
   "source": [
    "__str__() is a special class function that specifies how the class should be displayed when treated as a string (eg: when it is printed)"
   ]
  },
  {
   "cell_type": "code",
   "execution_count": null,
   "metadata": {
    "collapsed": true
   },
   "outputs": [],
   "source": [
    "class my_bland_class():\n",
    "    def __init__(self):\n",
    "        self.x = [1,2,3]\n",
    "        self.y = [\"a\", \"b\", \"c\"]\n",
    "    \n",
    "    def print_vars(self):\n",
    "        print(self)\n",
    "        \n"
   ]
  },
  {
   "cell_type": "code",
   "execution_count": null,
   "metadata": {
    "collapsed": false
   },
   "outputs": [],
   "source": [
    "first_class = my_bland_class()\n",
    "print(first_class)\n",
    "print(\"----------\")\n",
    "first_class.print_vars()"
   ]
  },
  {
   "cell_type": "code",
   "execution_count": null,
   "metadata": {
    "collapsed": true
   },
   "outputs": [],
   "source": [
    "class my_fancy_class():\n",
    "    def __init__(self):\n",
    "        self.x = [1,2,3]\n",
    "        self.y = [\"a\", \"b\", \"c\"]\n",
    "        \n",
    "    def __str__(self):\n",
    "        return \"my class\\n x: {}\\n y:{}\".format(self.x, self.y)\n",
    "    \n",
    "    def print_vars(self):\n",
    "        print(self)\n",
    "        \n"
   ]
  },
  {
   "cell_type": "code",
   "execution_count": null,
   "metadata": {
    "collapsed": false
   },
   "outputs": [],
   "source": [
    "first_class = my_fancy_class()\n",
    "print(first_class)\n",
    "print(\"----------\")\n",
    "first_class.print_vars()\n"
   ]
  },
  {
   "cell_type": "markdown",
   "metadata": {},
   "source": [
    "## Python uses Duck Typing: If it looks like a duck, and acts like a duck...\n",
    "    "
   ]
  },
  {
   "cell_type": "code",
   "execution_count": null,
   "metadata": {
    "collapsed": false
   },
   "outputs": [],
   "source": [
    "class Bird:\n",
    "    def fly(self):\n",
    "        print(\"It's a bird!\")\n",
    "        \n",
    "class Plane:\n",
    "    def fly(self):\n",
    "        print(\"It's a plane!\")\n",
    "\n",
    "class Batman:\n",
    "    def nanana(self):\n",
    "        print(\"Batman!\")\n",
    "\n",
    "def what_is_it(it):\n",
    "    return it.fly()\n",
    "\n",
    "bird = Bird()\n",
    "plane = Plane()\n",
    "batman = Batman()\n",
    "\n",
    "what_is_it(bird)\n",
    "what_is_it(plane)\n",
    "what_is_it(batman)"
   ]
  },
  {
   "cell_type": "markdown",
   "metadata": {
    "collapsed": true
   },
   "source": [
    "## Type Hints: Available in Python 3.5+\n",
    "\n",
    "These provide 'hints' about what the expected object type is for any given parameter in a function's parameter list"
   ]
  },
  {
   "cell_type": "code",
   "execution_count": null,
   "metadata": {
    "collapsed": false
   },
   "outputs": [],
   "source": [
    "from typing import List\n",
    "\n",
    "def greeting(names: List[str]) -> str:\n",
    "    '''\n",
    "    greeting()\n",
    "    names: A List of strings\n",
    "    \n",
    "    returns: a single string representing a concatenated greeting to names\n",
    "    '''\n",
    "    return 'Hello, {}'.format(', '.join(names))\n",
    " \n",
    "greeting(['jane', 'john', 'judy'])"
   ]
  },
  {
   "cell_type": "markdown",
   "metadata": {},
   "source": [
    "This does NOT stop someone from passing bad parameters, but can give someone who implements a function a better idea of what to expect!"
   ]
  },
  {
   "cell_type": "code",
   "execution_count": null,
   "metadata": {
    "collapsed": false
   },
   "outputs": [],
   "source": [
    "greeting(\"Rebel who plays by their own rules!\")"
   ]
  },
  {
   "cell_type": "markdown",
   "metadata": {},
   "source": [
    "## Private Functions in Python\n",
    "\n",
    "These can not be directly called from outside of the class that encapsulates it!\n",
    "This allows the creator to control how a user of a class interacts with it.\n",
    "\n",
    "Commonly, this is used to differentiate between what is *outwardly* useful: functions that perform end-to-end tasks and return meaningful output\n",
    "and functions that are only *internally* useful: helper functions that reduce code duplication, or check whether certain conditions hold, etc."
   ]
  },
  {
   "cell_type": "code",
   "execution_count": null,
   "metadata": {
    "collapsed": false
   },
   "outputs": [],
   "source": [
    "class Greeter:\n",
    "    \n",
    "    def __private_greeting(self, names: List[str]) -> str:\n",
    "        return 'Hello, {}'.format(', '.join(names))\n",
    "\n",
    "    def greet(self, names: List[str]) -> str:\n",
    "        print(self.__private_greeting(names))\n",
    "    \n",
    "greeter = Greeter()\n",
    "greeter.greet([\"Huey\", \"Dewey\", \"Louie\"])\n",
    "greeter.__private_greeting([\"Huey\", \"Dewey\", \"Louie\"])\n"
   ]
  },
  {
   "cell_type": "code",
   "execution_count": null,
   "metadata": {
    "collapsed": true
   },
   "outputs": [],
   "source": []
  }
 ],
 "metadata": {
  "kernelspec": {
   "display_name": "Python 3",
   "language": "python",
   "name": "python3"
  },
  "language_info": {
   "codemirror_mode": {
    "name": "ipython",
    "version": 3
   },
   "file_extension": ".py",
   "mimetype": "text/x-python",
   "name": "python",
   "nbconvert_exporter": "python",
   "pygments_lexer": "ipython3",
   "version": "3.6.0"
  }
 },
 "nbformat": 4,
 "nbformat_minor": 0
}
